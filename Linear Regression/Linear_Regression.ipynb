{
  "nbformat": 4,
  "nbformat_minor": 0,
  "metadata": {
    "colab": {
      "provenance": []
    },
    "kernelspec": {
      "name": "python3",
      "display_name": "Python 3"
    },
    "language_info": {
      "name": "python"
    }
  },
  "cells": [
    {
      "cell_type": "markdown",
      "source": [
        "### Implementing Linear Regression using Keras"
      ],
      "metadata": {
        "id": "VJO_kXYggXPB"
      }
    },
    {
      "cell_type": "code",
      "source": [
        "# import libraries\n",
        "import pandas as pd\n",
        "import numpy as np\n",
        "from keras.models import Sequential\n",
        "from keras.layers import Dense\n",
        "from keras.optimizers import Adam, SGD\n",
        "\n",
        "%matplotlib inline\n",
        "import matplotlib.pyplot as plt\n",
        "import numpy as np # linear algebra\n",
        "import pandas as pd # data processing,"
      ],
      "metadata": {
        "id": "o0eyU81Dgb5u"
      },
      "execution_count": 29,
      "outputs": []
    },
    {
      "cell_type": "code",
      "source": [
        "# load data\n",
        "data = pd.read_csv('IowaHousingPrices.csv')"
      ],
      "metadata": {
        "id": "An3PUze3hBE-"
      },
      "execution_count": 30,
      "outputs": []
    },
    {
      "cell_type": "code",
      "source": [
        "# inspect first 5 rows\n",
        "data.head()"
      ],
      "metadata": {
        "colab": {
          "base_uri": "https://localhost:8080/",
          "height": 206
        },
        "id": "cwRGs73khLz4",
        "outputId": "b758f586-94c9-4557-907d-3ff94e22dcdb"
      },
      "execution_count": 31,
      "outputs": [
        {
          "output_type": "execute_result",
          "data": {
            "text/plain": [
              "   SquareFeet  SalePrice\n",
              "0        1710     208500\n",
              "1        1262     181500\n",
              "2        1786     223500\n",
              "3        1717     140000\n",
              "4        2198     250000"
            ],
            "text/html": [
              "\n",
              "  <div id=\"df-f162b378-6af2-4b3b-b288-32fd7ab706d0\" class=\"colab-df-container\">\n",
              "    <div>\n",
              "<style scoped>\n",
              "    .dataframe tbody tr th:only-of-type {\n",
              "        vertical-align: middle;\n",
              "    }\n",
              "\n",
              "    .dataframe tbody tr th {\n",
              "        vertical-align: top;\n",
              "    }\n",
              "\n",
              "    .dataframe thead th {\n",
              "        text-align: right;\n",
              "    }\n",
              "</style>\n",
              "<table border=\"1\" class=\"dataframe\">\n",
              "  <thead>\n",
              "    <tr style=\"text-align: right;\">\n",
              "      <th></th>\n",
              "      <th>SquareFeet</th>\n",
              "      <th>SalePrice</th>\n",
              "    </tr>\n",
              "  </thead>\n",
              "  <tbody>\n",
              "    <tr>\n",
              "      <th>0</th>\n",
              "      <td>1710</td>\n",
              "      <td>208500</td>\n",
              "    </tr>\n",
              "    <tr>\n",
              "      <th>1</th>\n",
              "      <td>1262</td>\n",
              "      <td>181500</td>\n",
              "    </tr>\n",
              "    <tr>\n",
              "      <th>2</th>\n",
              "      <td>1786</td>\n",
              "      <td>223500</td>\n",
              "    </tr>\n",
              "    <tr>\n",
              "      <th>3</th>\n",
              "      <td>1717</td>\n",
              "      <td>140000</td>\n",
              "    </tr>\n",
              "    <tr>\n",
              "      <th>4</th>\n",
              "      <td>2198</td>\n",
              "      <td>250000</td>\n",
              "    </tr>\n",
              "  </tbody>\n",
              "</table>\n",
              "</div>\n",
              "    <div class=\"colab-df-buttons\">\n",
              "\n",
              "  <div class=\"colab-df-container\">\n",
              "    <button class=\"colab-df-convert\" onclick=\"convertToInteractive('df-f162b378-6af2-4b3b-b288-32fd7ab706d0')\"\n",
              "            title=\"Convert this dataframe to an interactive table.\"\n",
              "            style=\"display:none;\">\n",
              "\n",
              "  <svg xmlns=\"http://www.w3.org/2000/svg\" height=\"24px\" viewBox=\"0 -960 960 960\">\n",
              "    <path d=\"M120-120v-720h720v720H120Zm60-500h600v-160H180v160Zm220 220h160v-160H400v160Zm0 220h160v-160H400v160ZM180-400h160v-160H180v160Zm440 0h160v-160H620v160ZM180-180h160v-160H180v160Zm440 0h160v-160H620v160Z\"/>\n",
              "  </svg>\n",
              "    </button>\n",
              "\n",
              "  <style>\n",
              "    .colab-df-container {\n",
              "      display:flex;\n",
              "      gap: 12px;\n",
              "    }\n",
              "\n",
              "    .colab-df-convert {\n",
              "      background-color: #E8F0FE;\n",
              "      border: none;\n",
              "      border-radius: 50%;\n",
              "      cursor: pointer;\n",
              "      display: none;\n",
              "      fill: #1967D2;\n",
              "      height: 32px;\n",
              "      padding: 0 0 0 0;\n",
              "      width: 32px;\n",
              "    }\n",
              "\n",
              "    .colab-df-convert:hover {\n",
              "      background-color: #E2EBFA;\n",
              "      box-shadow: 0px 1px 2px rgba(60, 64, 67, 0.3), 0px 1px 3px 1px rgba(60, 64, 67, 0.15);\n",
              "      fill: #174EA6;\n",
              "    }\n",
              "\n",
              "    .colab-df-buttons div {\n",
              "      margin-bottom: 4px;\n",
              "    }\n",
              "\n",
              "    [theme=dark] .colab-df-convert {\n",
              "      background-color: #3B4455;\n",
              "      fill: #D2E3FC;\n",
              "    }\n",
              "\n",
              "    [theme=dark] .colab-df-convert:hover {\n",
              "      background-color: #434B5C;\n",
              "      box-shadow: 0px 1px 3px 1px rgba(0, 0, 0, 0.15);\n",
              "      filter: drop-shadow(0px 1px 2px rgba(0, 0, 0, 0.3));\n",
              "      fill: #FFFFFF;\n",
              "    }\n",
              "  </style>\n",
              "\n",
              "    <script>\n",
              "      const buttonEl =\n",
              "        document.querySelector('#df-f162b378-6af2-4b3b-b288-32fd7ab706d0 button.colab-df-convert');\n",
              "      buttonEl.style.display =\n",
              "        google.colab.kernel.accessAllowed ? 'block' : 'none';\n",
              "\n",
              "      async function convertToInteractive(key) {\n",
              "        const element = document.querySelector('#df-f162b378-6af2-4b3b-b288-32fd7ab706d0');\n",
              "        const dataTable =\n",
              "          await google.colab.kernel.invokeFunction('convertToInteractive',\n",
              "                                                    [key], {});\n",
              "        if (!dataTable) return;\n",
              "\n",
              "        const docLinkHtml = 'Like what you see? Visit the ' +\n",
              "          '<a target=\"_blank\" href=https://colab.research.google.com/notebooks/data_table.ipynb>data table notebook</a>'\n",
              "          + ' to learn more about interactive tables.';\n",
              "        element.innerHTML = '';\n",
              "        dataTable['output_type'] = 'display_data';\n",
              "        await google.colab.output.renderOutput(dataTable, element);\n",
              "        const docLink = document.createElement('div');\n",
              "        docLink.innerHTML = docLinkHtml;\n",
              "        element.appendChild(docLink);\n",
              "      }\n",
              "    </script>\n",
              "  </div>\n",
              "\n",
              "\n",
              "<div id=\"df-dd226083-9e22-4bb3-a8ef-c668a354d5bd\">\n",
              "  <button class=\"colab-df-quickchart\" onclick=\"quickchart('df-dd226083-9e22-4bb3-a8ef-c668a354d5bd')\"\n",
              "            title=\"Suggest charts\"\n",
              "            style=\"display:none;\">\n",
              "\n",
              "<svg xmlns=\"http://www.w3.org/2000/svg\" height=\"24px\"viewBox=\"0 0 24 24\"\n",
              "     width=\"24px\">\n",
              "    <g>\n",
              "        <path d=\"M19 3H5c-1.1 0-2 .9-2 2v14c0 1.1.9 2 2 2h14c1.1 0 2-.9 2-2V5c0-1.1-.9-2-2-2zM9 17H7v-7h2v7zm4 0h-2V7h2v10zm4 0h-2v-4h2v4z\"/>\n",
              "    </g>\n",
              "</svg>\n",
              "  </button>\n",
              "\n",
              "<style>\n",
              "  .colab-df-quickchart {\n",
              "      --bg-color: #E8F0FE;\n",
              "      --fill-color: #1967D2;\n",
              "      --hover-bg-color: #E2EBFA;\n",
              "      --hover-fill-color: #174EA6;\n",
              "      --disabled-fill-color: #AAA;\n",
              "      --disabled-bg-color: #DDD;\n",
              "  }\n",
              "\n",
              "  [theme=dark] .colab-df-quickchart {\n",
              "      --bg-color: #3B4455;\n",
              "      --fill-color: #D2E3FC;\n",
              "      --hover-bg-color: #434B5C;\n",
              "      --hover-fill-color: #FFFFFF;\n",
              "      --disabled-bg-color: #3B4455;\n",
              "      --disabled-fill-color: #666;\n",
              "  }\n",
              "\n",
              "  .colab-df-quickchart {\n",
              "    background-color: var(--bg-color);\n",
              "    border: none;\n",
              "    border-radius: 50%;\n",
              "    cursor: pointer;\n",
              "    display: none;\n",
              "    fill: var(--fill-color);\n",
              "    height: 32px;\n",
              "    padding: 0;\n",
              "    width: 32px;\n",
              "  }\n",
              "\n",
              "  .colab-df-quickchart:hover {\n",
              "    background-color: var(--hover-bg-color);\n",
              "    box-shadow: 0 1px 2px rgba(60, 64, 67, 0.3), 0 1px 3px 1px rgba(60, 64, 67, 0.15);\n",
              "    fill: var(--button-hover-fill-color);\n",
              "  }\n",
              "\n",
              "  .colab-df-quickchart-complete:disabled,\n",
              "  .colab-df-quickchart-complete:disabled:hover {\n",
              "    background-color: var(--disabled-bg-color);\n",
              "    fill: var(--disabled-fill-color);\n",
              "    box-shadow: none;\n",
              "  }\n",
              "\n",
              "  .colab-df-spinner {\n",
              "    border: 2px solid var(--fill-color);\n",
              "    border-color: transparent;\n",
              "    border-bottom-color: var(--fill-color);\n",
              "    animation:\n",
              "      spin 1s steps(1) infinite;\n",
              "  }\n",
              "\n",
              "  @keyframes spin {\n",
              "    0% {\n",
              "      border-color: transparent;\n",
              "      border-bottom-color: var(--fill-color);\n",
              "      border-left-color: var(--fill-color);\n",
              "    }\n",
              "    20% {\n",
              "      border-color: transparent;\n",
              "      border-left-color: var(--fill-color);\n",
              "      border-top-color: var(--fill-color);\n",
              "    }\n",
              "    30% {\n",
              "      border-color: transparent;\n",
              "      border-left-color: var(--fill-color);\n",
              "      border-top-color: var(--fill-color);\n",
              "      border-right-color: var(--fill-color);\n",
              "    }\n",
              "    40% {\n",
              "      border-color: transparent;\n",
              "      border-right-color: var(--fill-color);\n",
              "      border-top-color: var(--fill-color);\n",
              "    }\n",
              "    60% {\n",
              "      border-color: transparent;\n",
              "      border-right-color: var(--fill-color);\n",
              "    }\n",
              "    80% {\n",
              "      border-color: transparent;\n",
              "      border-right-color: var(--fill-color);\n",
              "      border-bottom-color: var(--fill-color);\n",
              "    }\n",
              "    90% {\n",
              "      border-color: transparent;\n",
              "      border-bottom-color: var(--fill-color);\n",
              "    }\n",
              "  }\n",
              "</style>\n",
              "\n",
              "  <script>\n",
              "    async function quickchart(key) {\n",
              "      const quickchartButtonEl =\n",
              "        document.querySelector('#' + key + ' button');\n",
              "      quickchartButtonEl.disabled = true;  // To prevent multiple clicks.\n",
              "      quickchartButtonEl.classList.add('colab-df-spinner');\n",
              "      try {\n",
              "        const charts = await google.colab.kernel.invokeFunction(\n",
              "            'suggestCharts', [key], {});\n",
              "      } catch (error) {\n",
              "        console.error('Error during call to suggestCharts:', error);\n",
              "      }\n",
              "      quickchartButtonEl.classList.remove('colab-df-spinner');\n",
              "      quickchartButtonEl.classList.add('colab-df-quickchart-complete');\n",
              "    }\n",
              "    (() => {\n",
              "      let quickchartButtonEl =\n",
              "        document.querySelector('#df-dd226083-9e22-4bb3-a8ef-c668a354d5bd button');\n",
              "      quickchartButtonEl.style.display =\n",
              "        google.colab.kernel.accessAllowed ? 'block' : 'none';\n",
              "    })();\n",
              "  </script>\n",
              "</div>\n",
              "\n",
              "    </div>\n",
              "  </div>\n"
            ]
          },
          "metadata": {},
          "execution_count": 31
        }
      ]
    },
    {
      "cell_type": "code",
      "source": [
        "# data details\n",
        "data.shape"
      ],
      "metadata": {
        "colab": {
          "base_uri": "https://localhost:8080/"
        },
        "id": "GcgJBUQPrBrf",
        "outputId": "e3d655c7-e0a4-43d2-cac6-3a3aa93f9b9f"
      },
      "execution_count": 35,
      "outputs": [
        {
          "output_type": "execute_result",
          "data": {
            "text/plain": [
              "(1460, 2)"
            ]
          },
          "metadata": {},
          "execution_count": 35
        }
      ]
    },
    {
      "cell_type": "code",
      "source": [
        "# define dependent and independent variables\n",
        "squareFeet = data[['SquareFeet']].values\n",
        "salePrice = data[['SalePrice']].values\n"
      ],
      "metadata": {
        "id": "Bw-cbGDyhUhW"
      },
      "execution_count": 32,
      "outputs": []
    },
    {
      "cell_type": "code",
      "source": [
        "# build our linear regression model - add dense layer,compile, optimize and define batch size and epochs\n",
        "model = keras.Sequential()\n",
        "model.add(keras.layers.Dense(1, input_shape=(1,)))\n",
        "model.summary()"
      ],
      "metadata": {
        "colab": {
          "base_uri": "https://localhost:8080/"
        },
        "id": "1p4GTM-Biuyd",
        "outputId": "8767fde1-b538-4908-fb81-16f9772f727c"
      },
      "execution_count": 36,
      "outputs": [
        {
          "output_type": "stream",
          "name": "stdout",
          "text": [
            "Model: \"sequential_8\"\n",
            "_________________________________________________________________\n",
            " Layer (type)                Output Shape              Param #   \n",
            "=================================================================\n",
            " dense_7 (Dense)             (None, 1)                 2         \n",
            "                                                                 \n",
            "=================================================================\n",
            "Total params: 2 (8.00 Byte)\n",
            "Trainable params: 2 (8.00 Byte)\n",
            "Non-trainable params: 0 (0.00 Byte)\n",
            "_________________________________________________________________\n"
          ]
        }
      ]
    },
    {
      "cell_type": "code",
      "source": [
        "model.compile(keras.optimizers.Adam(learning_rate=0.8),'mean_squared_error')\n",
        "model.fit(squareFeet,salePrice, epochs=40, batch_size=8)"
      ],
      "metadata": {
        "colab": {
          "base_uri": "https://localhost:8080/"
        },
        "id": "StGm2gnzq1AF",
        "outputId": "7c86c53f-f2ac-4ec6-b598-ad472adf16a8"
      },
      "execution_count": 37,
      "outputs": [
        {
          "output_type": "stream",
          "name": "stdout",
          "text": [
            "Epoch 1/40\n",
            "183/183 [==============================] - 1s 4ms/step - loss: 16331053056.0000\n",
            "Epoch 2/40\n",
            "183/183 [==============================] - 0s 3ms/step - loss: 3541840128.0000\n",
            "Epoch 3/40\n",
            "183/183 [==============================] - 0s 2ms/step - loss: 3184218368.0000\n",
            "Epoch 4/40\n",
            "183/183 [==============================] - 0s 1ms/step - loss: 3187875072.0000\n",
            "Epoch 5/40\n",
            "183/183 [==============================] - 0s 1ms/step - loss: 3191133440.0000\n",
            "Epoch 6/40\n",
            "183/183 [==============================] - 0s 1ms/step - loss: 3188961280.0000\n",
            "Epoch 7/40\n",
            "183/183 [==============================] - 0s 1ms/step - loss: 3193872384.0000\n",
            "Epoch 8/40\n",
            "183/183 [==============================] - 0s 1ms/step - loss: 3198294784.0000\n",
            "Epoch 9/40\n",
            "183/183 [==============================] - 0s 1ms/step - loss: 3188093952.0000\n",
            "Epoch 10/40\n",
            "183/183 [==============================] - 0s 1ms/step - loss: 3193798400.0000\n",
            "Epoch 11/40\n",
            "183/183 [==============================] - 0s 1ms/step - loss: 3211253504.0000\n",
            "Epoch 12/40\n",
            "183/183 [==============================] - 0s 1ms/step - loss: 3186258944.0000\n",
            "Epoch 13/40\n",
            "183/183 [==============================] - 0s 1ms/step - loss: 3189878784.0000\n",
            "Epoch 14/40\n",
            "183/183 [==============================] - 0s 1ms/step - loss: 3189561600.0000\n",
            "Epoch 15/40\n",
            "183/183 [==============================] - 0s 1ms/step - loss: 3198410240.0000\n",
            "Epoch 16/40\n",
            "183/183 [==============================] - 0s 1ms/step - loss: 3189689856.0000\n",
            "Epoch 17/40\n",
            "183/183 [==============================] - 0s 1ms/step - loss: 3183827200.0000\n",
            "Epoch 18/40\n",
            "183/183 [==============================] - 0s 1ms/step - loss: 3227802880.0000\n",
            "Epoch 19/40\n",
            "183/183 [==============================] - 0s 2ms/step - loss: 3200565248.0000\n",
            "Epoch 20/40\n",
            "183/183 [==============================] - 0s 1ms/step - loss: 3192274432.0000\n",
            "Epoch 21/40\n",
            "183/183 [==============================] - 0s 2ms/step - loss: 3201880576.0000\n",
            "Epoch 22/40\n",
            "183/183 [==============================] - 0s 2ms/step - loss: 3209101568.0000\n",
            "Epoch 23/40\n",
            "183/183 [==============================] - 0s 2ms/step - loss: 3201509376.0000\n",
            "Epoch 24/40\n",
            "183/183 [==============================] - 0s 2ms/step - loss: 3198629120.0000\n",
            "Epoch 25/40\n",
            "183/183 [==============================] - 0s 2ms/step - loss: 3200274432.0000\n",
            "Epoch 26/40\n",
            "183/183 [==============================] - 0s 2ms/step - loss: 3194273792.0000\n",
            "Epoch 27/40\n",
            "183/183 [==============================] - 0s 2ms/step - loss: 3194654464.0000\n",
            "Epoch 28/40\n",
            "183/183 [==============================] - 0s 1ms/step - loss: 3217614336.0000\n",
            "Epoch 29/40\n",
            "183/183 [==============================] - 0s 1ms/step - loss: 3200716544.0000\n",
            "Epoch 30/40\n",
            "183/183 [==============================] - 0s 2ms/step - loss: 3190468096.0000\n",
            "Epoch 31/40\n",
            "183/183 [==============================] - 0s 1ms/step - loss: 3195022592.0000\n",
            "Epoch 32/40\n",
            "183/183 [==============================] - 0s 1ms/step - loss: 3198958336.0000\n",
            "Epoch 33/40\n",
            "183/183 [==============================] - 0s 1ms/step - loss: 3201863680.0000\n",
            "Epoch 34/40\n",
            "183/183 [==============================] - 0s 1ms/step - loss: 3209130496.0000\n",
            "Epoch 35/40\n",
            "183/183 [==============================] - 0s 1ms/step - loss: 3196372480.0000\n",
            "Epoch 36/40\n",
            "183/183 [==============================] - 0s 1ms/step - loss: 3202505984.0000\n",
            "Epoch 37/40\n",
            "183/183 [==============================] - 0s 2ms/step - loss: 3196305152.0000\n",
            "Epoch 38/40\n",
            "183/183 [==============================] - 0s 1ms/step - loss: 3190178304.0000\n",
            "Epoch 39/40\n",
            "183/183 [==============================] - 0s 2ms/step - loss: 3195913472.0000\n",
            "Epoch 40/40\n",
            "183/183 [==============================] - 0s 1ms/step - loss: 3184009216.0000\n"
          ]
        },
        {
          "output_type": "execute_result",
          "data": {
            "text/plain": [
              "<keras.src.callbacks.History at 0x7e1c43f40640>"
            ]
          },
          "metadata": {},
          "execution_count": 37
        }
      ]
    },
    {
      "cell_type": "code",
      "source": [
        "# plot datapoints to see how model performed\n",
        "\n",
        "data.plot(kind='scatter',\n",
        "       x='SquareFeet',\n",
        "       y='SalePrice', title='Housing Prices and Square Footage of Iowa Homes')\n",
        "\n",
        "\n",
        "y_pred = model.predict(squareFeet)\n",
        "\n",
        "#Plot the linear regression line\n",
        "plt.plot(squareFeet, y_pred, color='red')"
      ],
      "metadata": {
        "colab": {
          "base_uri": "https://localhost:8080/",
          "height": 509
        },
        "id": "up1bGssFmSvC",
        "outputId": "c6bb9edb-dcb4-491a-caa4-d3212de568a4"
      },
      "execution_count": 38,
      "outputs": [
        {
          "output_type": "stream",
          "name": "stdout",
          "text": [
            "46/46 [==============================] - 0s 1ms/step\n"
          ]
        },
        {
          "output_type": "execute_result",
          "data": {
            "text/plain": [
              "[<matplotlib.lines.Line2D at 0x7e1c43689360>]"
            ]
          },
          "metadata": {},
          "execution_count": 38
        },
        {
          "output_type": "display_data",
          "data": {
            "text/plain": [
              "<Figure size 640x480 with 1 Axes>"
            ],
            "image/png": "[encoded data removed]"
          },
          "metadata": {}
        }
      ]
    },
    {
      "cell_type": "code",
      "source": [
        "#predict price of house of 2000 squareFeet value\n",
        "\n",
        "squareFeet = np.array([[2000]])\n",
        "predicted_price = model.predict(squareFeet)\n",
        "print(f\"Predicted price of a house with 2000 square feet: ${predicted_price[0][0]:,.2f}\")"
      ],
      "metadata": {
        "colab": {
          "base_uri": "https://localhost:8080/"
        },
        "id": "CugqujrcsQL0",
        "outputId": "97420c39-8564-4617-9e74-14da9a4b1dcd"
      },
      "execution_count": 41,
      "outputs": [
        {
          "output_type": "stream",
          "name": "stdout",
          "text": [
            "1/1 [==============================] - 0s 20ms/step\n",
            "Predicted price of a house with 2000 square feet: $232,362.09\n"
          ]
        }
      ]
    }
  ]
}